{
 "cells": [
  {
   "cell_type": "markdown",
   "id": "0cb081c8-e115-4a36-9771-d2b5d7b373fc",
   "metadata": {},
   "source": [
    "#### Training\n",
    "\n",
    "This notebook contains pipeline to train a semantic segmentation model to segment roofs from aerial imagery.<br>\n",
    "Dataset used - **AIRS** : https://www.airs-dataset.com/ <br>\n"
   ]
  },
  {
   "cell_type": "code",
   "execution_count": 23,
   "id": "30a69eeb-2c2c-4136-9a85-c6998e41826f",
   "metadata": {},
   "outputs": [],
   "source": [
    "import os\n",
    "os.environ['CUDA_VISIBLE_DEVICES'] = '1' #selecting which GPU device to use"
   ]
  },
  {
   "cell_type": "markdown",
   "id": "36308d53-f473-4d89-b3ac-12196f27f813",
   "metadata": {},
   "source": [
    "Importing packages"
   ]
  },
  {
   "cell_type": "code",
   "execution_count": 2,
   "id": "a08abd42-39c7-4452-b75a-e848df8d2959",
   "metadata": {},
   "outputs": [],
   "source": [
    "import warnings\n",
    "from ast import literal_eval\n",
    "import random\n",
    "warnings.filterwarnings('ignore')\n",
    "import torch.nn as nn\n",
    "import torch\n",
    "import segmentation_models_pytorch as sm\n",
    "import numpy as np\n",
    "import pandas as pd\n",
    "import skimage.io as io\n",
    "from PIL import Image\n",
    "import cv2\n",
    "from torch.utils.data import DataLoader,Dataset\n",
    "import matplotlib.pyplot as plt\n",
    "import tifffile\n",
    "from sklearn.model_selection import KFold\n",
    "import glob\n",
    "import torch_optimizer as t_optim #ranger optimizer -https://github.com/lessw2020/Ranger-Deep-Learning-Optimizer\n",
    "import utils\n",
    "import cv2\n",
    "import torch.optim as optim\n",
    "from tqdm.notebook import tqdm\n",
    "import torchvision.transforms as transforms\n",
    "import zarr"
   ]
  },
  {
   "cell_type": "markdown",
   "id": "3661c91b-7679-4826-9b65-835226aeb2d8",
   "metadata": {},
   "source": [
    "We convert the dataset to Zarr groups for fast retrieval \n",
    "### **just run one time i.e., first time** \n",
    "For future runs, run directly from the **Dataset** section "
   ]
  },
  {
   "cell_type": "code",
   "execution_count": 3,
   "id": "7493c8e7-78eb-4a52-b557-0c62c42c52c0",
   "metadata": {},
   "outputs": [],
   "source": [
    "#path to train images, train masks, valid images, valid masks \n",
    "\n",
    "train_images_path = \"/N/scratch/joshisri/Roof_segmentation/Spring22/Roof_Segmentation/AIRS/trainval/train/image/\"\n",
    "train_mask_path = \"/N/scratch/joshisri/Roof_segmentation/Spring22/Roof_Segmentation/AIRS/trainval/train/label/\"\n",
    "valid_images_path = \"/N/scratch/joshisri/Roof_segmentation/Spring22/Roof_Segmentation/AIRS/trainval/val/image/\"\n",
    "valid_mask_path =  \"/N/scratch/joshisri/Roof_segmentation/Spring22/Roof_Segmentation/AIRS/trainval/val/label/\"\n"
   ]
  },
  {
   "cell_type": "code",
   "execution_count": 4,
   "id": "40086f25-7447-4490-8695-07b12ee0aec6",
   "metadata": {},
   "outputs": [],
   "source": [
    "#creating a CSV with columns filename, image_path, mask_path for both train and valid datasets\n",
    "\n",
    "data_train = []\n",
    "for im in os.listdir(train_images_path):\n",
    "    data_train.append([im,train_images_path+im,train_mask_path+im,0])\n",
    "    if not os.path.isfile(train_images_path+im) and not os.path.isfile(train_mask_path+im):\n",
    "        print(train_images_path+im)\n",
    "        \n",
    "        \n",
    "data_valid= []\n",
    "for im in os.listdir(valid_images_path):\n",
    "    data_valid.append([im,valid_images_path+im,valid_mask_path+im,0])\n",
    "    if not os.path.isfile(valid_images_path+im) and not os.path.isfile(valid_mask_path+im):\n",
    "        print(valid_images_path+im)\n",
    "\n",
    "            \n"
   ]
  },
  {
   "cell_type": "code",
   "execution_count": 20,
   "id": "d2d1bb67-4b17-4232-bc57-44ee14aa87e0",
   "metadata": {},
   "outputs": [],
   "source": [
    "pd.DataFrame(data_train,columns=[\"filename\",\"image_path\",\"mask_path\",\"annot_counts\"]).to_csv(\"train_data.csv\",index=None)\n",
    "pd.DataFrame(data_valid,columns=[\"filename\",\"image_path\",\"mask_path\",\"annot_counts\"]).to_csv(\"valid_data.csv\",index=None)"
   ]
  },
  {
   "cell_type": "code",
   "execution_count": 21,
   "id": "bc6ac01c-b59f-4d9d-ab19-834893745c4b",
   "metadata": {},
   "outputs": [],
   "source": [
    "train_images_zarr_savepath = \"train_images_zarr\"\n",
    "train_masks_zarr_savepath = \"train_masks_zarr\"\n",
    "val_images_zarr_savepath = \"val_images_zarr\"\n",
    "val_masks_zarr_savepath = \"val_masks_zarr\""
   ]
  },
  {
   "cell_type": "markdown",
   "id": "27fb22e6-6a8b-4960-becf-f2a9cb828f92",
   "metadata": {},
   "source": [
    "Creating Zarr groups"
   ]
  },
  {
   "cell_type": "code",
   "execution_count": 22,
   "id": "74ccffd2-e08c-43a4-8e38-c038a48cb4b0",
   "metadata": {},
   "outputs": [],
   "source": [
    "\n",
    "train_img_group = zarr.group(train_images_zarr_savepath)\n",
    "train_mask_group = zarr.group(train_masks_zarr_savepath)\n",
    "val_img_grp =  zarr.group(val_images_zarr_savepath)\n",
    "val_mask_grp =  zarr.group(val_masks_zarr_savepath)"
   ]
  },
  {
   "cell_type": "markdown",
   "id": "7db2c12a-2944-48ca-8805-42fad955f0ad",
   "metadata": {},
   "source": [
    "Reading csvs that we just created"
   ]
  },
  {
   "cell_type": "code",
   "execution_count": 44,
   "id": "bfa6a9c5-0af3-402a-9e76-cc80f4939238",
   "metadata": {},
   "outputs": [],
   "source": [
    "train_csv = pd.read_csv(\"train_data.csv\")\n",
    "valid_csv = pd.read_csv(\"valid_data.csv\")"
   ]
  },
  {
   "cell_type": "markdown",
   "id": "e6344fc5-73b8-4290-9ccd-3c630c8b0628",
   "metadata": {},
   "source": [
    "Iterating over the masks from train and test datasets, extracting contours for regions annotated as roof <br>\n",
    "Saving the contour centroids with respect to each mask for future use"
   ]
  },
  {
   "cell_type": "code",
   "execution_count": 45,
   "id": "610fe08d-2889-442b-ad3c-d07a1bffd383",
   "metadata": {},
   "outputs": [
    {
     "data": {
      "application/vnd.jupyter.widget-view+json": {
       "model_id": "ced66eaedd854232a4fe0a9d84157650",
       "version_major": 2,
       "version_minor": 0
      },
      "text/plain": [
       "0it [00:00, ?it/s]"
      ]
     },
     "metadata": {},
     "output_type": "display_data"
    },
    {
     "data": {
      "application/vnd.jupyter.widget-view+json": {
       "model_id": "0a36e7f3d61a466f8a45093f9f4622f3",
       "version_major": 2,
       "version_minor": 0
      },
      "text/plain": [
       "0it [00:00, ?it/s]"
      ]
     },
     "metadata": {},
     "output_type": "display_data"
    }
   ],
   "source": [
    "mask_centroid_lists = []\n",
    "for data in tqdm( train_csv.iterrows()):\n",
    "    cent = []\n",
    "    mask = tifffile.imread(data[1]['mask_path'])\n",
    "    contours, hierarchies = cv2.findContours(np.uint8(mask), cv2.RETR_LIST, cv2.CHAIN_APPROX_SIMPLE)\n",
    "\n",
    "    # print(contour_random_selected)\n",
    "    for c in contours:\n",
    "        M = cv2.moments(c)\n",
    "        if M['m00'] != 0:\n",
    "            cx = int(M['m10']/M['m00'])\n",
    "            cy = int(M['m01']/M['m00'])\n",
    "        cent.append([cx,cy])\n",
    "    mask_centroid_lists.append(cent)\n",
    "    \n",
    "\n",
    "mask_centroids_val = []\n",
    "for data in tqdm( valid_csv.iterrows()):\n",
    "    cent = []\n",
    "    mask = tifffile.imread(data[1]['mask_path'])\n",
    "    contours, hierarchies = cv2.findContours(np.uint8(mask), cv2.RETR_LIST, cv2.CHAIN_APPROX_SIMPLE)\n",
    "\n",
    "    # print(contour_random_selected)\n",
    "    for c in contours:\n",
    "        M = cv2.moments(c)\n",
    "        if M['m00'] != 0:\n",
    "            cx = int(M['m10']/M['m00'])\n",
    "            cy = int(M['m01']/M['m00'])\n",
    "        cent.append([cx,cy])\n",
    "        \n",
    "    mask_centroids_val.append(cent)\n",
    "\n",
    "   \n",
    "    "
   ]
  },
  {
   "cell_type": "code",
   "execution_count": 46,
   "id": "4239b9f1-c00f-44d0-ba50-8aefa0a6a3ba",
   "metadata": {},
   "outputs": [],
   "source": [
    "#adding centroid information to the dataframe\n",
    "train_csv['region_centroids'] = mask_centroid_lists\n",
    "valid_csv['region_centroids'] = mask_centroids_val\n",
    "\n",
    "train_csv.to_csv(\"train_data.csv\",index=None)\n",
    "valid_csv.to_csv(\"valid_data.csv\",index=None)"
   ]
  },
  {
   "cell_type": "markdown",
   "id": "76483f08-aa9c-4359-94a3-43a616b743b2",
   "metadata": {},
   "source": [
    "### **Adding the image data to zarr group**"
   ]
  },
  {
   "cell_type": "code",
   "execution_count": 26,
   "id": "037410e6-debe-4eda-84ce-be4005962d92",
   "metadata": {},
   "outputs": [
    {
     "data": {
      "application/vnd.jupyter.widget-view+json": {
       "model_id": "76845795809a4e6694e4842f26aee031",
       "version_major": 2,
       "version_minor": 0
      },
      "text/plain": [
       "  0%|          | 0/857 [00:00<?, ?it/s]"
      ]
     },
     "metadata": {},
     "output_type": "display_data"
    }
   ],
   "source": [
    "#train data\n",
    "for data in tqdm( train_csv.iterrows(),total=len(train_csv)):\n",
    "    train_img_group[data[1][\"filename\"]] = tifffile.imread(data[1]['image_path'])\n",
    "    train_mask_group[data[1][\"filename\"]] = tifffile.imread(data[1]['mask_path'])\n",
    "    \n",
    "    "
   ]
  },
  {
   "cell_type": "code",
   "execution_count": 27,
   "id": "9d299e99-7a34-425f-82bc-1a37de13eeac",
   "metadata": {},
   "outputs": [
    {
     "data": {
      "application/vnd.jupyter.widget-view+json": {
       "model_id": "d03ee233cb234970bd03c8ae21a3f068",
       "version_major": 2,
       "version_minor": 0
      },
      "text/plain": [
       "  0%|          | 0/94 [00:00<?, ?it/s]"
      ]
     },
     "metadata": {},
     "output_type": "display_data"
    }
   ],
   "source": [
    "#val data\n",
    "for data in tqdm( valid_csv.iterrows(),total=len(valid_csv)):\n",
    "    val_img_grp[data[1][\"filename\"]] = tifffile.imread(data[1]['image_path'])\n",
    "    val_mask_grp[data[1][\"filename\"]] = tifffile.imread(data[1]['mask_path'])\n",
    "    \n",
    "    "
   ]
  },
  {
   "cell_type": "markdown",
   "id": "f7cff815-7abe-45e0-a255-0c7cf32142dc",
   "metadata": {},
   "source": [
    "### Dataset - Defining a dataset \n",
    "\n",
    "The feature of the dataset defined below :\n",
    "- For every yield, for a given image it randomly samples a contour centroid.\n",
    "- Extract a patch of resolution 512x512 around it\n",
    "- Apply transformations and augmentations\n",
    "- Encoder specific preprocessing"
   ]
  },
  {
   "cell_type": "code",
   "execution_count": 5,
   "id": "8b19b1d8-3475-4772-8d31-286252b56e31",
   "metadata": {},
   "outputs": [],
   "source": [
    "        \n",
    "class AIRS_dataset_dynamic(Dataset):\n",
    "    def __init__(self,data_csv_path:str=\"train_data.csv\",zarr_im_path=\"\",zarr_mask_path=\"\",indexes:list= None,transform:transforms = None, target_transform:transforms=None,preprocessing=None,patch_size=(512,512,3)):\n",
    "        self.data = pd.read_csv(data_csv_path)\n",
    "        self.indexed_data = self.data.iloc[indexes,:] #helps to pick particular images in training set based on the indices\n",
    "        self.transform = transform\n",
    "        self.target_transform = target_transform\n",
    "        self.preprocessing = preprocessing\n",
    "        self.patch_size = patch_size\n",
    "        self.image_zar = zarr.open_group(zarr_im_path)\n",
    "        self.mask_zar = zarr.open_group(zarr_mask_path)\n",
    "        \n",
    "    def __getitem__(self,idx):\n",
    "        # print(\"imname\",self.indexed_data.iloc[idx,1])\n",
    "        image = self.image_zar[self.indexed_data.iloc[idx,0]]\n",
    "        mask =  self.mask_zar[self.indexed_data.iloc[idx,0]]\n",
    "        cent_list = literal_eval(self.indexed_data.iloc[idx,-1])\n",
    "        \n",
    "        if len(cent_list)==0:\n",
    "            cy,cx = random.randint(0,image.shape[1]),random.randint(0,image.shape[0])\n",
    "        else:\n",
    "            cy,cx = random.sample(cent_list,1)[0]\n",
    "        cx = cx-self.patch_size[0]//2 if cx-self.patch_size[0]//2>0 else 0\n",
    "        cy = cy-self.patch_size[1]//2 if cy-self.patch_size[1]//2>0 else 0\n",
    "        \n",
    "        cx = cx if cx+self.patch_size[0]<image.shape[0] else cx-self.patch_size[0]\n",
    "        cy = cy if cy+self.patch_size[1]<image.shape[1] else cy-self.patch_size[1]\n",
    "       \n",
    "        patch =image.get_basic_selection((slice(cx,cx+self.patch_size[0]),slice(cy,cy+self.patch_size[1])))\n",
    "        mask_patch =mask.get_basic_selection((slice(cx,cx+self.patch_size[0]),slice(cy,cy+self.patch_size[1])))*255.0\n",
    "        if self.transform:\n",
    "            augmentations = self.transform(image=patch,mask=mask_patch)\n",
    "            patch,mask_patch = augmentations['image'],augmentations['mask']\n",
    "        if self.preprocessing:\n",
    "            preprocessed = self.preprocessing(image=patch,mask=mask_patch)\n",
    "            patch,mask_patch = preprocessed['image'],preprocessed['mask']\n",
    "        return patch.float(),(mask_patch[:,:]/255.0).type(torch.LongTensor)\n",
    "    \n",
    "    def __len__(self):\n",
    "        return len(self.indexed_data)  "
   ]
  },
  {
   "cell_type": "markdown",
   "id": "11ae7dfa-17dd-43bf-9e04-5df29df37081",
   "metadata": {},
   "source": [
    "### Config - defining the model configurations"
   ]
  },
  {
   "cell_type": "code",
   "execution_count": 27,
   "id": "2733ca0c-7ded-4882-aa14-81edbadce209",
   "metadata": {},
   "outputs": [],
   "source": [
    "class Configuration:\n",
    "    MODEL_SAVEPATH = \"models/\" #path to save models\n",
    "    ENCODER = \"efficientnet-b2\" #encoder to be used\n",
    "    PRETRAINED_WEIGHTS = \"imagenet\" #pretrained weights for the encoder\n",
    "    BATCH_SIZE = 16 #batch size\n",
    "    INPUT_CHANNELS = 3\n",
    "    INPUT_SHAPE = (512,512,3)\n",
    "    CLASSES = 2 \n",
    "    DEVICE = \"cuda\" if torch.cuda.is_available() else \"cpu\"\n",
    "    EPOCHS = 1\n",
    "    LOSS_CROSSENTROPY = nn.CrossEntropyLoss() \n",
    "    LOSS_FOCAL = sm.losses.FocalLoss(mode=\"multiclass\")\n",
    "    LOSS_DICE = utils.DiceScore(loss=True)\n",
    "    DICE_COEF = utils.DiceScore(loss=False)\n",
    "    WEIGHT_DECAY = 1e-4\n",
    "    LEARNING_RATE = 1e-3\n",
    "    PREPROCESS = sm.encoders.get_preprocessing_fn(ENCODER,PRETRAINED_WEIGHTS)\n",
    "    MODEL_NAME = 0\n",
    "    ARCHITECTURE = \"UNET\"\n",
    "       \n",
    "cfg = Configuration()  "
   ]
  },
  {
   "cell_type": "markdown",
   "id": "e0d6eeab-b4fa-431b-8ac4-24278b19a3a5",
   "metadata": {},
   "source": [
    "Validating the dataset implementation"
   ]
  },
  {
   "cell_type": "code",
   "execution_count": 8,
   "id": "086c70a9-0826-4677-9d21-01d97116d2c7",
   "metadata": {},
   "outputs": [],
   "source": [
    "train_data_csv_path = \"train_data.csv\"\n",
    "train_images_zarr_path = \"train_images_zarr\"\n",
    "train_masks_zarr_path = \"train_masks_zarr\"\n",
    "dataframe_im_ids = pd.read_csv(train_data_csv_path).index"
   ]
  },
  {
   "cell_type": "code",
   "execution_count": 9,
   "id": "169f71ee-6c77-410e-aa17-e6284fc605a9",
   "metadata": {},
   "outputs": [],
   "source": [
    "train_dataset = AIRS_dataset_dynamic(train_data_csv_path,indexes=dataframe_im_ids,zarr_im_path=train_images_zarr_path,zarr_mask_path=train_masks_zarr_path,transform=utils.get_train_transforms(),preprocessing=utils.preprocessing_fucntion(cfg.PREPROCESS))"
   ]
  },
  {
   "cell_type": "code",
   "execution_count": 21,
   "id": "07944b07-5834-4f3b-b8a5-32a17765a4bc",
   "metadata": {},
   "outputs": [
    {
     "name": "stderr",
     "output_type": "stream",
     "text": [
      "Clipping input data to the valid range for imshow with RGB data ([0..1] for floats or [0..255] for integers).\n"
     ]
    },
    {
     "data": {
      "image/png": "[encoded data removed]",
      "text/plain": [
       "<Figure size 432x288 with 1 Axes>"
      ]
     },
     "metadata": {
      "needs_background": "light"
     },
     "output_type": "display_data"
    },
    {
     "data": {
      "image/png": "[encoded data removed]",
      "text/plain": [
       "<Figure size 432x288 with 1 Axes>"
      ]
     },
     "metadata": {
      "needs_background": "light"
     },
     "output_type": "display_data"
    }
   ],
   "source": [
    "image,mask = train_dataset[0]\n",
    "plt.imshow(image.numpy().transpose(1,2,0))\n",
    "plt.show()\n",
    "plt.imshow(mask)\n",
    "plt.show()"
   ]
  },
  {
   "cell_type": "markdown",
   "id": "fc5b4839-c315-4a83-8ddd-e3c4fc6ec2ea",
   "metadata": {},
   "source": [
    "### Defined the trainer class"
   ]
  },
  {
   "cell_type": "code",
   "execution_count": 32,
   "id": "1b07e43d-fd4e-4936-8f70-a06c40d429ab",
   "metadata": {},
   "outputs": [],
   "source": [
    "class Trainer:\n",
    "    def __init__(self,cfg:Configuration,train_data_loader:DataLoader,valid_data_loader:DataLoader)->None:\n",
    "        self.cfg = cfg\n",
    "        self.patience = 5\n",
    "        \n",
    "        \n",
    "        self.model = sm.Unet(encoder_name=self.cfg.ENCODER, \n",
    "                     encoder_weights=self.cfg.PRETRAINED_WEIGHTS, \n",
    "                     in_channels=self.cfg.INPUT_CHANNELS, \n",
    "                     classes=self.cfg.CLASSES)\n",
    "        #uncomment for unet++\n",
    "        # self.model = sm.UnetPlusPlus(encoder_name=self.cfg.ENCODER, \n",
    "        #              encoder_weights=self.cfg.PRETRAINED_WEIGHTS, \n",
    "        #              in_channels=self.cfg.INPUT_CHANNELS, \n",
    "        #              classes=self.cfg.CLASSES)\n",
    "        \n",
    "        #replace loss function with self.cfg.LOSS_FOCAL to implement focal loss\n",
    "        self.loss_function = self.cfg.LOSS_CROSSENTROPY #self.cfg.LOSS_FOCAL#\n",
    "        self.lr = self.cfg.LEARNING_RATE\n",
    "        self.batch_size = self.cfg.BATCH_SIZE\n",
    "        self.train_dataloader = train_data_loader\n",
    "        self.valid_dataloader = valid_data_loader\n",
    "        self.device = self.cfg.DEVICE\n",
    "        self.epochs = self.cfg.EPOCHS\n",
    "        self.lr = self.cfg.LEARNING_RATE\n",
    "        self.val_for_early_stopping = 9999999 #early stopping\n",
    "        if not os.path.isdir(self.cfg.MODEL_SAVEPATH):\n",
    "            os.makedirs(self.cfg.MODEL_SAVEPATH)\n",
    "        \n",
    "        \n",
    "            \n",
    "            \n",
    "        self.log = pd.DataFrame(columns=[\"model_name\",\"train_loss\",\"train_dice\",\"valid_loss\",\"valid_dice\"])\n",
    "        \n",
    "        \n",
    "        #using ranger optimizer\n",
    "        self.optimizer = t_optim.Ranger(self.model.parameters(),weight_decay=self.cfg.WEIGHT_DECAY)\n",
    "        \n",
    "        \n",
    "   \n",
    "    \n",
    "    def calculate_metrics(self,data_loader:DataLoader):\n",
    "        self.model.eval()\n",
    "        total_loss = 0\n",
    "        total_dice = 0 #batch wise dice loss\n",
    "        with torch.no_grad():\n",
    "            for data in tqdm(data_loader,total=len(data_loader)):\n",
    "                im = data[0].to(self.device)\n",
    "                mask = data[1].to(self.device)\n",
    "                out = self.model(im)\n",
    "                loss = self.loss_function(out.data,mask) #+ cfg.LOSS_DICE(out,mask)\n",
    "                total_loss+=loss.item()\n",
    "                total_dice+= self.cfg.DICE_COEF(out.data.to(\"cpu\"),mask.cpu())\n",
    "        return total_dice/len(data_loader),total_loss/len(data_loader)\n",
    "\n",
    "    \n",
    "    def earlystopping(self,val_loss):\n",
    "        #early stopping\n",
    "        \n",
    "        if val_loss < self.val_for_early_stopping:\n",
    "            self.val_for_early_stopping = val_loss\n",
    "            return True\n",
    "        else:\n",
    "            self.patience-=1\n",
    "            return False\n",
    " \n",
    "    def fit(self)->None:\n",
    "        print(\"started fitting the model\")\n",
    "        best_loss = 9999999\n",
    "        \n",
    "        for epoch in range(self.epochs):\n",
    "            self.model.train()\n",
    "            self.model.to(self.device)\n",
    "            \n",
    "            dice_score_ = 0\n",
    "            loss_ = 0\n",
    "            \n",
    "            for j,data in enumerate(tqdm(self.train_dataloader,total = len(self.train_dataloader))):\n",
    "                input_image_batch = data[0].to(self.device)\n",
    "                mask_batch = data[1].to(self.device)\n",
    "                self.optimizer.zero_grad()\n",
    "                output = self.model(input_image_batch)\n",
    "                loss = self.loss_function(output,mask_batch)#+cfg.LOSS_DICE(output,mask_batch.unsqueeze(1))\n",
    "                loss.backward()\n",
    "                self.optimizer.step()\n",
    "                loss_+=loss.item()\n",
    "            \n",
    "                dice_score_+= self.cfg.DICE_COEF(output.data.to(\"cpu\"),mask_batch.to(\"cpu\"))\n",
    "\n",
    "            \n",
    "            dice_score_valid,loss_valid, = self.calculate_metrics(self.valid_dataloader)\n",
    "            train_dice = dice_score_/len(self.train_dataloader)\n",
    "            train_loss = loss_/len(self.train_dataloader)\n",
    "            print(f\"train dice score : {train_dice}, train loss {train_loss}\")\n",
    "            print(f\"valid dice score : {dice_score_valid}, valid loss {loss_valid}\")\n",
    "            \n",
    "            self.log.loc[epoch,:] = [f\"{self.cfg.ENCODER}_{self.cfg.ENCODER}.pth\",f\"{train_loss}\",f\"{train_dice}\",f\"{loss_valid}\",f\"{dice_score_valid}\"]\n",
    "            self.log.to_csv(self.cfg.MODEL_SAVEPATH+f\"/{self.cfg.MODEL_NAME}__{self.cfg.ENCODER}_{self.cfg.BATCH_SIZE}_Valid_slicing_all.csv\",index=False)\n",
    "            \n",
    "            if self.patience >= 0 and self.earlystopping(loss_valid):\n",
    "                print(\"saving model\")\n",
    "                \n",
    "                torch.save(self.model.state_dict(),self.cfg.MODEL_SAVEPATH+f\"/{self.cfg.MODEL_NAME}_{self.cfg.ENCODER}_{self.cfg.BATCH_SIZE}_Valid_slicing_all.pth\")\n",
    "                self.patience= 5\n",
    "                \n",
    "            \n",
    "            if self.patience <= 0:\n",
    "                print(\"Training terminated, no improvement in valid loss\")\n",
    "                break\n",
    "                \n",
    "        \n",
    "        \n",
    "        \n",
    "\n",
    "        "
   ]
  },
  {
   "cell_type": "markdown",
   "id": "925d58f6-f602-4496-9b1e-f16e3ebcf22d",
   "metadata": {},
   "source": [
    "#### Model Training"
   ]
  },
  {
   "cell_type": "code",
   "execution_count": 33,
   "id": "49fbfb93-36ac-4530-b7e1-159f38f2123a",
   "metadata": {},
   "outputs": [],
   "source": [
    "train_data_csv_path = \"train_data.csv\"\n",
    "valid_data_csv_path = \"valid_data.csv\"\n",
    "\n",
    "train_images_zarr_path = \"train_images_zarr\"\n",
    "train_masks_zarr_path = \"train_masks_zarr\"\n",
    "val_images_zarr_path = \"val_images_zarr\"\n",
    "val_masks_zarr_path = \"val_masks_zarr\"\n",
    "\n",
    "def training(train_data_csv_path:str,valid_data_csv_path:str)->pd.DataFrame:\n",
    "    #get all the training data unique image ids\n",
    "    train_ids = pd.read_csv(train_data_csv_path).index\n",
    "    valid_ids = pd.read_csv(valid_data_csv_path).index\n",
    "    \n",
    "    train_dataset = AIRS_dataset_dynamic(train_data_csv_path,indexes=train_ids,zarr_im_path=train_images_zarr_path,zarr_mask_path=train_masks_zarr_path,transform=utils.get_train_transforms(),preprocessing=utils.preprocessing_fucntion(cfg.PREPROCESS))\n",
    "    valid_dataset = AIRS_dataset_dynamic(valid_data_csv_path,indexes=valid_ids,zarr_im_path=val_images_zarr_path,zarr_mask_path=val_masks_zarr_path,preprocessing=utils.preprocessing_fucntion(cfg.PREPROCESS))\n",
    "\n",
    "    train_dataloader = DataLoader(train_dataset,batch_size=cfg.BATCH_SIZE,shuffle=True)\n",
    "    valid_dataloader = DataLoader(valid_dataset,batch_size=cfg.BATCH_SIZE,shuffle=False)\n",
    "    cfg.MODEL_NAME =  cfg.ARCHITECTURE\n",
    "    trainer =Trainer(cfg,train_dataloader,valid_dataloader)\n",
    "    trainer.fit()        \n",
    "\n",
    "\n",
    "\n",
    "    \n"
   ]
  },
  {
   "cell_type": "code",
   "execution_count": 30,
   "id": "1cdbab23-c7ab-421e-a82b-f51dfb43beb8",
   "metadata": {},
   "outputs": [
    {
     "name": "stdout",
     "output_type": "stream",
     "text": [
      "started fitting the model\n"
     ]
    },
    {
     "data": {
      "application/vnd.jupyter.widget-view+json": {
       "model_id": "23428987696c4fbb8757ee6cfa84e01b",
       "version_major": 2,
       "version_minor": 0
      },
      "text/plain": [
       "  0%|          | 0/54 [00:00<?, ?it/s]"
      ]
     },
     "metadata": {},
     "output_type": "display_data"
    },
    {
     "data": {
      "application/vnd.jupyter.widget-view+json": {
       "model_id": "4ccf31d3c95849e4b552669720ad0f6c",
       "version_major": 2,
       "version_minor": 0
      },
      "text/plain": [
       "  0%|          | 0/6 [00:00<?, ?it/s]"
      ]
     },
     "metadata": {},
     "output_type": "display_data"
    },
    {
     "name": "stdout",
     "output_type": "stream",
     "text": [
      "train dice score : 0.6568679809570312, train loss 0.3619109902668882\n",
      "valid dice score : 0.7167482972145081, valid loss 0.24241802096366882\n",
      "saving model\n"
     ]
    },
    {
     "data": {
      "application/vnd.jupyter.widget-view+json": {
       "model_id": "b70b65eeabbc46b2a3988e723b95a116",
       "version_major": 2,
       "version_minor": 0
      },
      "text/plain": [
       "  0%|          | 0/54 [00:00<?, ?it/s]"
      ]
     },
     "metadata": {},
     "output_type": "display_data"
    },
    {
     "data": {
      "application/vnd.jupyter.widget-view+json": {
       "model_id": "7c96df04ac53448b958c3e35a90c2cdd",
       "version_major": 2,
       "version_minor": 0
      },
      "text/plain": [
       "  0%|          | 0/6 [00:00<?, ?it/s]"
      ]
     },
     "metadata": {},
     "output_type": "display_data"
    },
    {
     "name": "stdout",
     "output_type": "stream",
     "text": [
      "train dice score : 0.7440813779830933, train loss 0.20872498552004495\n",
      "valid dice score : 0.7894423007965088, valid loss 0.15911613404750824\n",
      "saving model\n"
     ]
    },
    {
     "data": {
      "application/vnd.jupyter.widget-view+json": {
       "model_id": "ab3e6e21e8b54dbcb4a8a625eff5185f",
       "version_major": 2,
       "version_minor": 0
      },
      "text/plain": [
       "  0%|          | 0/54 [00:00<?, ?it/s]"
      ]
     },
     "metadata": {},
     "output_type": "display_data"
    },
    {
     "data": {
      "application/vnd.jupyter.widget-view+json": {
       "model_id": "1eced3d7a924445e8f5de6a600df8c39",
       "version_major": 2,
       "version_minor": 0
      },
      "text/plain": [
       "  0%|          | 0/6 [00:00<?, ?it/s]"
      ]
     },
     "metadata": {},
     "output_type": "display_data"
    },
    {
     "name": "stdout",
     "output_type": "stream",
     "text": [
      "train dice score : 0.8009406328201294, train loss 0.14548795891028862\n",
      "valid dice score : 0.8651764392852783, valid loss 0.09085101758440335\n",
      "saving model\n"
     ]
    },
    {
     "data": {
      "application/vnd.jupyter.widget-view+json": {
       "model_id": "dd4abb15f1974d44a24fa41e0f469650",
       "version_major": 2,
       "version_minor": 0
      },
      "text/plain": [
       "  0%|          | 0/54 [00:00<?, ?it/s]"
      ]
     },
     "metadata": {},
     "output_type": "display_data"
    },
    {
     "data": {
      "application/vnd.jupyter.widget-view+json": {
       "model_id": "95e3c024aa9c4a5ab38a85e1212ba233",
       "version_major": 2,
       "version_minor": 0
      },
      "text/plain": [
       "  0%|          | 0/6 [00:00<?, ?it/s]"
      ]
     },
     "metadata": {},
     "output_type": "display_data"
    },
    {
     "name": "stdout",
     "output_type": "stream",
     "text": [
      "train dice score : 0.8455794453620911, train loss 0.10901119780761225\n",
      "valid dice score : 0.8900505900382996, valid loss 0.07201757157842319\n",
      "saving model\n"
     ]
    },
    {
     "data": {
      "application/vnd.jupyter.widget-view+json": {
       "model_id": "e1e8b5d1dd214e71b97c8a474f838512",
       "version_major": 2,
       "version_minor": 0
      },
      "text/plain": [
       "  0%|          | 0/54 [00:00<?, ?it/s]"
      ]
     },
     "metadata": {},
     "output_type": "display_data"
    },
    {
     "data": {
      "application/vnd.jupyter.widget-view+json": {
       "model_id": "d7d2346ed56440109206522940d24330",
       "version_major": 2,
       "version_minor": 0
      },
      "text/plain": [
       "  0%|          | 0/6 [00:00<?, ?it/s]"
      ]
     },
     "metadata": {},
     "output_type": "display_data"
    },
    {
     "name": "stdout",
     "output_type": "stream",
     "text": [
      "train dice score : 0.8707290887832642, train loss 0.09056570587886704\n",
      "valid dice score : 0.8941680788993835, valid loss 0.06669600618382295\n",
      "saving model\n"
     ]
    },
    {
     "data": {
      "application/vnd.jupyter.widget-view+json": {
       "model_id": "14987c27c2f7454c80095266bda31950",
       "version_major": 2,
       "version_minor": 0
      },
      "text/plain": [
       "  0%|          | 0/54 [00:00<?, ?it/s]"
      ]
     },
     "metadata": {},
     "output_type": "display_data"
    },
    {
     "data": {
      "application/vnd.jupyter.widget-view+json": {
       "model_id": "a9b5e43a867440df8e510ba9ca1f05c8",
       "version_major": 2,
       "version_minor": 0
      },
      "text/plain": [
       "  0%|          | 0/6 [00:00<?, ?it/s]"
      ]
     },
     "metadata": {},
     "output_type": "display_data"
    },
    {
     "name": "stdout",
     "output_type": "stream",
     "text": [
      "train dice score : 0.8883944153785706, train loss 0.07795706805255678\n",
      "valid dice score : 0.9229567050933838, valid loss 0.05030195415019989\n",
      "saving model\n"
     ]
    },
    {
     "data": {
      "application/vnd.jupyter.widget-view+json": {
       "model_id": "50fb730b165142678631a8e662281e66",
       "version_major": 2,
       "version_minor": 0
      },
      "text/plain": [
       "  0%|          | 0/54 [00:00<?, ?it/s]"
      ]
     },
     "metadata": {},
     "output_type": "display_data"
    },
    {
     "data": {
      "application/vnd.jupyter.widget-view+json": {
       "model_id": "fd1c92015ffc4164be0fa6836272dd0e",
       "version_major": 2,
       "version_minor": 0
      },
      "text/plain": [
       "  0%|          | 0/6 [00:00<?, ?it/s]"
      ]
     },
     "metadata": {},
     "output_type": "display_data"
    },
    {
     "name": "stdout",
     "output_type": "stream",
     "text": [
      "train dice score : 0.8978946805000305, train loss 0.07204235890121372\n",
      "valid dice score : 0.9259718060493469, valid loss 0.0492621889958779\n",
      "saving model\n"
     ]
    },
    {
     "data": {
      "application/vnd.jupyter.widget-view+json": {
       "model_id": "30fd7c3043e448d597a1b6068ef13571",
       "version_major": 2,
       "version_minor": 0
      },
      "text/plain": [
       "  0%|          | 0/54 [00:00<?, ?it/s]"
      ]
     },
     "metadata": {},
     "output_type": "display_data"
    },
    {
     "data": {
      "application/vnd.jupyter.widget-view+json": {
       "model_id": "85ad2e1db5154d079834798d689ca9c2",
       "version_major": 2,
       "version_minor": 0
      },
      "text/plain": [
       "  0%|          | 0/6 [00:00<?, ?it/s]"
      ]
     },
     "metadata": {},
     "output_type": "display_data"
    },
    {
     "name": "stdout",
     "output_type": "stream",
     "text": [
      "train dice score : 0.9084042906761169, train loss 0.06297967941672714\n",
      "valid dice score : 0.9265029430389404, valid loss 0.04762021079659462\n",
      "saving model\n"
     ]
    },
    {
     "data": {
      "application/vnd.jupyter.widget-view+json": {
       "model_id": "b8814b6e7f2f4ba2bb58a3459e31bdea",
       "version_major": 2,
       "version_minor": 0
      },
      "text/plain": [
       "  0%|          | 0/54 [00:00<?, ?it/s]"
      ]
     },
     "metadata": {},
     "output_type": "display_data"
    },
    {
     "data": {
      "application/vnd.jupyter.widget-view+json": {
       "model_id": "3df97d97656d4452a031ccc28fd8da85",
       "version_major": 2,
       "version_minor": 0
      },
      "text/plain": [
       "  0%|          | 0/6 [00:00<?, ?it/s]"
      ]
     },
     "metadata": {},
     "output_type": "display_data"
    },
    {
     "name": "stdout",
     "output_type": "stream",
     "text": [
      "train dice score : 0.914692223072052, train loss 0.06211017106694204\n",
      "valid dice score : 0.9361531138420105, valid loss 0.04314349529643854\n",
      "saving model\n"
     ]
    },
    {
     "data": {
      "application/vnd.jupyter.widget-view+json": {
       "model_id": "9075eaf84c5e42a09a16ca6aede71514",
       "version_major": 2,
       "version_minor": 0
      },
      "text/plain": [
       "  0%|          | 0/54 [00:00<?, ?it/s]"
      ]
     },
     "metadata": {},
     "output_type": "display_data"
    },
    {
     "data": {
      "application/vnd.jupyter.widget-view+json": {
       "model_id": "a1148338082b4648954d125b06b3e1e3",
       "version_major": 2,
       "version_minor": 0
      },
      "text/plain": [
       "  0%|          | 0/6 [00:00<?, ?it/s]"
      ]
     },
     "metadata": {},
     "output_type": "display_data"
    },
    {
     "name": "stdout",
     "output_type": "stream",
     "text": [
      "train dice score : 0.9200394153594971, train loss 0.057215654463679703\n",
      "valid dice score : 0.9374533295631409, valid loss 0.04221216278771559\n",
      "saving model\n"
     ]
    },
    {
     "data": {
      "application/vnd.jupyter.widget-view+json": {
       "model_id": "26e93541ae674766a1730ea0c71c9ce6",
       "version_major": 2,
       "version_minor": 0
      },
      "text/plain": [
       "  0%|          | 0/54 [00:00<?, ?it/s]"
      ]
     },
     "metadata": {},
     "output_type": "display_data"
    },
    {
     "data": {
      "application/vnd.jupyter.widget-view+json": {
       "model_id": "9eb8a3810c0b4b35a8377538a866e28f",
       "version_major": 2,
       "version_minor": 0
      },
      "text/plain": [
       "  0%|          | 0/6 [00:00<?, ?it/s]"
      ]
     },
     "metadata": {},
     "output_type": "display_data"
    },
    {
     "name": "stdout",
     "output_type": "stream",
     "text": [
      "train dice score : 0.9205992817878723, train loss 0.057395456151829824\n",
      "valid dice score : 0.9455390572547913, valid loss 0.03764080194135507\n",
      "saving model\n"
     ]
    },
    {
     "data": {
      "application/vnd.jupyter.widget-view+json": {
       "model_id": "a026ee3a7d284827a25b48891f074818",
       "version_major": 2,
       "version_minor": 0
      },
      "text/plain": [
       "  0%|          | 0/54 [00:00<?, ?it/s]"
      ]
     },
     "metadata": {},
     "output_type": "display_data"
    },
    {
     "data": {
      "application/vnd.jupyter.widget-view+json": {
       "model_id": "c329876e6ccd4a9ab4e659191a395e9a",
       "version_major": 2,
       "version_minor": 0
      },
      "text/plain": [
       "  0%|          | 0/6 [00:00<?, ?it/s]"
      ]
     },
     "metadata": {},
     "output_type": "display_data"
    },
    {
     "name": "stdout",
     "output_type": "stream",
     "text": [
      "train dice score : 0.9251357316970825, train loss 0.054000609588843805\n",
      "valid dice score : 0.9508922100067139, valid loss 0.033455378065506615\n",
      "saving model\n"
     ]
    },
    {
     "data": {
      "application/vnd.jupyter.widget-view+json": {
       "model_id": "53ce2fab3b934216883234161b8774f7",
       "version_major": 2,
       "version_minor": 0
      },
      "text/plain": [
       "  0%|          | 0/54 [00:00<?, ?it/s]"
      ]
     },
     "metadata": {},
     "output_type": "display_data"
    },
    {
     "data": {
      "application/vnd.jupyter.widget-view+json": {
       "model_id": "e3492085d5d1496494ebef80b572d3f8",
       "version_major": 2,
       "version_minor": 0
      },
      "text/plain": [
       "  0%|          | 0/6 [00:00<?, ?it/s]"
      ]
     },
     "metadata": {},
     "output_type": "display_data"
    },
    {
     "name": "stdout",
     "output_type": "stream",
     "text": [
      "train dice score : 0.9269662499427795, train loss 0.054609155006430765\n",
      "valid dice score : 0.9416304230690002, valid loss 0.03845415823161602\n"
     ]
    },
    {
     "data": {
      "application/vnd.jupyter.widget-view+json": {
       "model_id": "730d8ca359d54ef59855b9c54a2b3ec0",
       "version_major": 2,
       "version_minor": 0
      },
      "text/plain": [
       "  0%|          | 0/54 [00:00<?, ?it/s]"
      ]
     },
     "metadata": {},
     "output_type": "display_data"
    },
    {
     "data": {
      "application/vnd.jupyter.widget-view+json": {
       "model_id": "307d3d7c949b4ca7ba01be486494de9b",
       "version_major": 2,
       "version_minor": 0
      },
      "text/plain": [
       "  0%|          | 0/6 [00:00<?, ?it/s]"
      ]
     },
     "metadata": {},
     "output_type": "display_data"
    },
    {
     "name": "stdout",
     "output_type": "stream",
     "text": [
      "train dice score : 0.9328930974006653, train loss 0.04823686548129276\n",
      "valid dice score : 0.9462496638298035, valid loss 0.03703790716826916\n"
     ]
    },
    {
     "data": {
      "application/vnd.jupyter.widget-view+json": {
       "model_id": "c9f40d5c26ca4ca7a3d1d0a67f4ac2fa",
       "version_major": 2,
       "version_minor": 0
      },
      "text/plain": [
       "  0%|          | 0/54 [00:00<?, ?it/s]"
      ]
     },
     "metadata": {},
     "output_type": "display_data"
    },
    {
     "data": {
      "application/vnd.jupyter.widget-view+json": {
       "model_id": "f9e46a0406d74d81b58b8de22ebec253",
       "version_major": 2,
       "version_minor": 0
      },
      "text/plain": [
       "  0%|          | 0/6 [00:00<?, ?it/s]"
      ]
     },
     "metadata": {},
     "output_type": "display_data"
    },
    {
     "name": "stdout",
     "output_type": "stream",
     "text": [
      "train dice score : 0.9330243468284607, train loss 0.048158287450119304\n",
      "valid dice score : 0.9383442997932434, valid loss 0.0393267422914505\n"
     ]
    },
    {
     "data": {
      "application/vnd.jupyter.widget-view+json": {
       "model_id": "8a72f54329e9473f904a93c429745aee",
       "version_major": 2,
       "version_minor": 0
      },
      "text/plain": [
       "  0%|          | 0/54 [00:00<?, ?it/s]"
      ]
     },
     "metadata": {},
     "output_type": "display_data"
    },
    {
     "data": {
      "application/vnd.jupyter.widget-view+json": {
       "model_id": "c2288cfabc624758b8cf22d4ccc1ac98",
       "version_major": 2,
       "version_minor": 0
      },
      "text/plain": [
       "  0%|          | 0/6 [00:00<?, ?it/s]"
      ]
     },
     "metadata": {},
     "output_type": "display_data"
    },
    {
     "name": "stdout",
     "output_type": "stream",
     "text": [
      "train dice score : 0.9317097067832947, train loss 0.0511571541428566\n",
      "valid dice score : 0.9489730000495911, valid loss 0.0343653637294968\n"
     ]
    },
    {
     "data": {
      "application/vnd.jupyter.widget-view+json": {
       "model_id": "a2aa4b8e57be4b83a59d82012fbb2ab4",
       "version_major": 2,
       "version_minor": 0
      },
      "text/plain": [
       "  0%|          | 0/54 [00:00<?, ?it/s]"
      ]
     },
     "metadata": {},
     "output_type": "display_data"
    },
    {
     "data": {
      "application/vnd.jupyter.widget-view+json": {
       "model_id": "dca9a5b87f4b49c0a03c58a3dfc36f9e",
       "version_major": 2,
       "version_minor": 0
      },
      "text/plain": [
       "  0%|          | 0/6 [00:00<?, ?it/s]"
      ]
     },
     "metadata": {},
     "output_type": "display_data"
    },
    {
     "name": "stdout",
     "output_type": "stream",
     "text": [
      "train dice score : 0.9273055791854858, train loss 0.05326034125216581\n",
      "valid dice score : 0.9499683380126953, valid loss 0.03405282522241274\n",
      "Training terminated, no improvement in valid loss\n"
     ]
    }
   ],
   "source": [
    "training(train_data_csv_path,valid_data_csv_path)"
   ]
  }
 ],
 "metadata": {
  "kernelspec": {
   "display_name": "vm_sripad",
   "language": "python",
   "name": "vm_sripad"
  },
  "language_info": {
   "codemirror_mode": {
    "name": "ipython",
    "version": 3
   },
   "file_extension": ".py",
   "mimetype": "text/x-python",
   "name": "python",
   "nbconvert_exporter": "python",
   "pygments_lexer": "ipython3",
   "version": "3.10.0"
  }
 },
 "nbformat": 4,
 "nbformat_minor": 5
}
